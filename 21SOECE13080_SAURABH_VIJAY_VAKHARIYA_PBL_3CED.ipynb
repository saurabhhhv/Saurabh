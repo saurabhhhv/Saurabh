{
 "cells": [
  {
   "cell_type": "code",
   "execution_count": 80,
   "id": "852a99ee",
   "metadata": {},
   "outputs": [],
   "source": [
    "import os\n",
    "import shutil\n",
    "import tkinter as tk\n",
    "from tkinter import filedialog\n",
    "from tkinter import*\n",
    "from tkinter import ttk\n",
    "window=tk.Tk()\n",
    "window.title(\"File Sort Manager Made By Sv\")\n",
    "window.geometry(\"700x200\")\n",
    "window.configure(bg='black')\n",
    "label=Label(window,text=\"Welcome! You May Proceed:→\",bg='red',fg='white').grid(column = 0, row = 0)\n",
    "def btn_sort():\n",
    "    dirName = folder_path.get()\n",
    "    li = os.listdir(dirName)\n",
    "    for i in li:\n",
    "        fileName, extension = os.path.splitext(i)\n",
    "        extension = extension[1:]\n",
    "    \n",
    "        if extension == \"\":\n",
    "            continue\n",
    "        \n",
    "        if os.path.exists( dirName + '/' + extension ):\n",
    "            shutil.move( dirName + '/' + i, dirName + '/' + extension + '/' + i )\n",
    "        \n",
    "        else:\n",
    "            lbl2 = Label(window,text=extension,bg='white',fg='black')\n",
    "            lbl2.grid(row=6, column=1)\n",
    "            lbl3 = Label(window,text=\"Created\",bg='white',fg='black')\n",
    "            lbl3.grid(row=6, column=0)\n",
    "            os.makedirs( dirName + '/' + extension )\n",
    "            shutil.move( dirName + '/' + i, dirName + '/' + extension + '/' + i )\n",
    "label=Label(window, text=\"Browse Path\", font=(\"Courier 12 bold\"),bg='grey',fg='black').grid(row=3, column=1)\n",
    "def browse_button():\n",
    "    global folder_path\n",
    "    filename = filedialog.askdirectory()\n",
    "    folder_path.set(filename)\n",
    "    return filename\n",
    "folder_path = StringVar()\n",
    "lbl1 = Label(window,textvariable=folder_path,bg='white',fg='black')\n",
    "lbl1.grid(row=3, column=3)\n",
    "button2 = Button(window, text=\"Browse\",command=browse_button,bg='light grey',fg='black').grid(row=3, column=5)\n",
    "btn = Button(window,text=\"Submit\",width = 20,command=btn_sort,bg='light grey',fg='black').grid(column = 3, row = 4) \n",
    "window.mainloop()"
   ]
  },
  {
   "cell_type": "code",
   "execution_count": null,
   "id": "0755384e",
   "metadata": {},
   "outputs": [],
   "source": []
  },
  {
   "cell_type": "code",
   "execution_count": null,
   "id": "29de3843",
   "metadata": {},
   "outputs": [],
   "source": []
  }
 ],
 "metadata": {
  "kernelspec": {
   "display_name": "Python 3",
   "language": "python",
   "name": "python3"
  },
  "language_info": {
   "codemirror_mode": {
    "name": "ipython",
    "version": 3
   },
   "file_extension": ".py",
   "mimetype": "text/x-python",
   "name": "python",
   "nbconvert_exporter": "python",
   "pygments_lexer": "ipython3",
   "version": "3.8.8"
  }
 },
 "nbformat": 4,
 "nbformat_minor": 5
}
